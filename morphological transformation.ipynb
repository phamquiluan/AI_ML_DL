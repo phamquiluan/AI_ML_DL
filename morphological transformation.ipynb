{
 "cells": [
  {
   "cell_type": "code",
   "execution_count": 12,
   "metadata": {},
   "outputs": [],
   "source": [
    "from cv2 import *\n",
    "from numpy import *\n",
    "\n",
    "img = imread('img/morpho.png')\n",
    "ret, img = threshold(img,127,255,THRESH_BINARY)"
   ]
  },
  {
   "cell_type": "code",
   "execution_count": 49,
   "metadata": {},
   "outputs": [],
   "source": [
    "def show(img):\n",
    "    imshow(\"disp\", img)\n",
    "    waitKey(0)\n",
    "    destroyAllWindows()\n",
    "\n",
    "def show2(img,img2):\n",
    "    imshow(\"i1\", img)\n",
    "    imshow(\"i2\", img2)\n",
    "    waitKey(0)\n",
    "    destroyAllWindows()\n",
    "\n",
    "def show3(img1,img2,img3):\n",
    "    imshow(\"i1\", img1)\n",
    "    imshow(\"i2\", img2)\n",
    "    imshow(\"i3\", img3)\n",
    "    waitKey(0)\n",
    "    destroyAllWindows()\n",
    "    \n",
    "show(img)"
   ]
  },
  {
   "cell_type": "markdown",
   "metadata": {},
   "source": [
    "## Erosion"
   ]
  },
  {
   "cell_type": "code",
   "execution_count": 33,
   "metadata": {},
   "outputs": [],
   "source": [
    "kernel = ones((5,5))\n",
    "ero = erode(img,kernel)\n",
    "# show(ero)"
   ]
  },
  {
   "cell_type": "markdown",
   "metadata": {},
   "source": [
    "## Dilation"
   ]
  },
  {
   "cell_type": "code",
   "execution_count": 32,
   "metadata": {},
   "outputs": [],
   "source": [
    "kernel = ones((5,5))\n",
    "dil = dilate(img,kernel)\n",
    "# show(dil)"
   ]
  },
  {
   "cell_type": "markdown",
   "metadata": {},
   "source": [
    "## Openning"
   ]
  },
  {
   "cell_type": "code",
   "execution_count": 34,
   "metadata": {},
   "outputs": [],
   "source": [
    "kernel = ones((5,5))\n",
    "openn = morphologyEx(img, MORPH_OPEN, kernel)\n",
    "# show(openn)"
   ]
  },
  {
   "cell_type": "markdown",
   "metadata": {},
   "source": [
    "## Closing "
   ]
  },
  {
   "cell_type": "code",
   "execution_count": 35,
   "metadata": {},
   "outputs": [],
   "source": [
    "kernel = ones((5,5))\n",
    "closs = morphologyEx(img, MORPH_CLOSE, kernel)\n",
    "# show(closs)"
   ]
  },
  {
   "cell_type": "markdown",
   "metadata": {},
   "source": [
    "# Subtraction"
   ]
  },
  {
   "cell_type": "code",
   "execution_count": 28,
   "metadata": {},
   "outputs": [],
   "source": [
    "subb = img - ero\n",
    "show(subb)"
   ]
  },
  {
   "cell_type": "markdown",
   "metadata": {},
   "source": [
    "# Bitwise Ops"
   ]
  },
  {
   "cell_type": "code",
   "execution_count": 29,
   "metadata": {},
   "outputs": [],
   "source": [
    "NotImg = bitwise_not(img)\n",
    "# show(NotImg)"
   ]
  },
  {
   "cell_type": "code",
   "execution_count": 50,
   "metadata": {},
   "outputs": [],
   "source": [
    "# or \n",
    "NotDil = bitwise_not(dil)\n",
    "OrImg = bitwise_or(NotDil, ero)\n",
    "# show3(ero, NotDil, OrImg)"
   ]
  },
  {
   "cell_type": "code",
   "execution_count": null,
   "metadata": {},
   "outputs": [],
   "source": [
    "\n",
    "\n",
    "\n",
    "\n",
    "\n",
    "\n",
    "\n",
    "\n",
    "\n",
    "\n",
    "\n",
    "\n",
    "\n",
    "\n",
    "\n",
    "\n",
    "\n",
    "\n",
    "\n",
    "\n",
    "\n",
    "\n",
    "\n",
    "\n",
    "\n",
    "\n",
    "\n",
    "\n"
   ]
  }
 ],
 "metadata": {
  "kernelspec": {
   "display_name": "Python 3",
   "language": "python",
   "name": "python3"
  },
  "language_info": {
   "codemirror_mode": {
    "name": "ipython",
    "version": 3
   },
   "file_extension": ".py",
   "mimetype": "text/x-python",
   "name": "python",
   "nbconvert_exporter": "python",
   "pygments_lexer": "ipython3",
   "version": "3.5.2"
  }
 },
 "nbformat": 4,
 "nbformat_minor": 2
}
