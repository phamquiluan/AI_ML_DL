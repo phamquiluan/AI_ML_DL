{
 "cells": [
  {
   "cell_type": "markdown",
   "metadata": {},
   "source": [
    "## Tensorflow"
   ]
  },
  {
   "cell_type": "code",
   "execution_count": 2,
   "metadata": {},
   "outputs": [],
   "source": [
    "import numpy as np\n",
    "import tensorflow as tf"
   ]
  },
  {
   "cell_type": "code",
   "execution_count": 6,
   "metadata": {},
   "outputs": [
    {
     "name": "stdout",
     "output_type": "stream",
     "text": [
      "Tensor(\"Add_3:0\", shape=(4,), dtype=int32)\n",
      "Ket qua: [2 4 6 8]\n"
     ]
    }
   ],
   "source": [
    "with tf.Session():\n",
    "    in1 = tf.constant([1,2,3,4])\n",
    "    in2 = tf.constant([1,2,3,4])\n",
    "    out = tf.add(in1,in2)\n",
    "    print(out)\n",
    "    print(\"Ket qua:\", out.eval())"
   ]
  },
  {
   "cell_type": "code",
   "execution_count": 12,
   "metadata": {},
   "outputs": [
    {
     "name": "stdout",
     "output_type": "stream",
     "text": [
      "[ 1  4  9 16]\n",
      "[1. 1. 1. 1.]\n",
      "[ 1  4  9 16]\n"
     ]
    }
   ],
   "source": [
    "with tf.Session() as sess:\n",
    "    print(tf.multiply(in1,in2).eval())\n",
    "    print(tf.divide(in1,in2).eval())\n",
    "    print(sess.run(tf.multiply(in1,in2)))"
   ]
  },
  {
   "cell_type": "markdown",
   "metadata": {},
   "source": [
    "we can use **sess.run()** or **.eval()**"
   ]
  },
  {
   "cell_type": "markdown",
   "metadata": {},
   "source": [
    "## Linear Regression Example"
   ]
  },
  {
   "cell_type": "code",
   "execution_count": 39,
   "metadata": {},
   "outputs": [],
   "source": [
    "import tensorflow as tf\n",
    "import numpy as np\n",
    "import matplotlib.pyplot as plt\n",
    "rng = np.random"
   ]
  },
  {
   "cell_type": "code",
   "execution_count": 15,
   "metadata": {},
   "outputs": [],
   "source": [
    "# parameters\n",
    "learning_rate = 0.1\n",
    "training_epochs = 1000\n",
    "display_step = 50"
   ]
  },
  {
   "cell_type": "code",
   "execution_count": 16,
   "metadata": {},
   "outputs": [],
   "source": [
    "# Training data\n",
    "train_X = np.array([3.3,4.4,5.5,6.71,6.93,4.168,9.779,6.182,7.59,2.167,\n",
    "7.042,10.791,5.313,7.997,5.654,9.27,3.1])\n",
    "train_Y = np.array([1.7,2.76,2.09,3.19,1.694,1.573,3.366,2.596,2.53,1.221,\n",
    "2.827,3.465,1.65,2.904,2.42,2.94,1.3])\n",
    "n_samples = train_X.shape[0]"
   ]
  },
  {
   "cell_type": "code",
   "execution_count": 17,
   "metadata": {},
   "outputs": [],
   "source": [
    "# tf graph input\n",
    "X = tf.placeholder(\"float\")\n",
    "Y = tf.placeholder(\"float\")\n",
    "\n",
    "# set model weight\n",
    "W = tf.Variable(rng.randn(), name=\"weight\")\n",
    "b = tf.Variable(rng.randn(), name=\"bias\")"
   ]
  },
  {
   "cell_type": "code",
   "execution_count": 19,
   "metadata": {},
   "outputs": [],
   "source": [
    "# construct a linear model\n",
    "pred = tf.add(tf.multiply(X,W),b)"
   ]
  },
  {
   "cell_type": "code",
   "execution_count": 28,
   "metadata": {},
   "outputs": [],
   "source": [
    "# mean square error\n",
    "cost = tf.reduce_sum(tf.pow((Y-pred),2)) / (2 * n_samples)\n",
    "\n",
    "# gradient descent\n",
    "optimizer = tf.train.GradientDescentOptimizer(learning_rate).minimize(cost)"
   ]
  },
  {
   "cell_type": "code",
   "execution_count": 29,
   "metadata": {},
   "outputs": [],
   "source": [
    "# initialize ??? tai sao chung ta phai can buocw nay\n",
    "init = tf.global_variables_initializer()"
   ]
  },
  {
   "cell_type": "code",
   "execution_count": 40,
   "metadata": {},
   "outputs": [
    {
     "name": "stdout",
     "output_type": "stream",
     "text": [
      "Epoch: 0050 , cost = 0.131164581 , weight = 0.34917045 , b = -0.04607135\n",
      "Epoch: 0100 , cost = 0.095654778 , weight = 0.29483792 , b = 0.3647044\n",
      "Epoch: 0150 , cost = 0.085600741 , weight = 0.26637685 , b = 0.5798814\n",
      "Epoch: 0200 , cost = 0.082679421 , weight = 0.25146812 , b = 0.6925976\n",
      "Epoch: 0250 , cost = 0.081792697 , weight = 0.24365836 , b = 0.75164247\n",
      "Epoch: 0300 , cost = 0.081504792 , weight = 0.23956747 , b = 0.78257114\n",
      "Epoch: 0350 , cost = 0.081402428 , weight = 0.23742454 , b = 0.7987727\n",
      "Epoch: 0400 , cost = 0.081362113 , weight = 0.23630196 , b = 0.80725974\n",
      "Epoch: 0450 , cost = 0.081344649 , weight = 0.23571394 , b = 0.81170547\n",
      "Epoch: 0500 , cost = 0.081336476 , weight = 0.23540598 , b = 0.81403387\n",
      "Epoch: 0550 , cost = 0.081332505 , weight = 0.23524451 , b = 0.8152545\n",
      "Epoch: 0600 , cost = 0.081330478 , weight = 0.23515998 , b = 0.8158936\n",
      "Epoch: 0650 , cost = 0.081329450 , weight = 0.23511586 , b = 0.8162273\n",
      "Epoch: 0700 , cost = 0.081328891 , weight = 0.23509255 , b = 0.81640357\n",
      "Epoch: 0750 , cost = 0.081328630 , weight = 0.23508017 , b = 0.81649697\n",
      "Epoch: 0800 , cost = 0.081328496 , weight = 0.23507418 , b = 0.81654227\n",
      "Epoch: 0850 , cost = 0.081328399 , weight = 0.23507087 , b = 0.8165674\n",
      "Epoch: 0900 , cost = 0.081328347 , weight = 0.235069 , b = 0.8165814\n",
      "Epoch: 0950 , cost = 0.081328355 , weight = 0.23506835 , b = 0.8165863\n",
      "Epoch: 1000 , cost = 0.081328355 , weight = 0.23506787 , b = 0.8165899\n",
      "Optimization finished!\n",
      "Training cost: 0.081328355 , W = 0.23506787 , b = 0.8165899\n"
     ]
    },
    {
     "data": {
      "image/png": "[encoded data removed]",
      "text/plain": [
       "<Figure size 432x288 with 1 Axes>"
      ]
     },
     "metadata": {
      "needs_background": "light"
     },
     "output_type": "display_data"
    }
   ],
   "source": [
    "# start training\n",
    "with tf.Session() as sess:\n",
    "    sess.run(init)\n",
    "    \n",
    "    # fit all training data\n",
    "    for epoch in range(training_epochs):\n",
    "        for (x,y) in zip(train_X, train_Y):\n",
    "            sess.run(optimizer, feed_dict = {X: x, Y: y})\n",
    "        \n",
    "        # display logs per epoch step\n",
    "        if (epoch+1)%display_step == 0:\n",
    "            c =  sess.run(cost, feed_dict={X:train_X, Y:train_Y})\n",
    "            print(\"Epoch:\", '%04d' % (epoch+1), \", cost =\", \"{:.9f}\".format(c), \", weight =\", sess.run(W), \", b =\", sess.run(b))\n",
    "    \n",
    "    print(\"Optimization finished!\")\n",
    "    training_cost = sess.run(cost, feed_dict={X:train_X, Y:train_Y})\n",
    "    print(\"Training cost:\", training_cost, \", W =\", sess.run(W), \", b =\", sess.run(b))\n",
    "    \n",
    "    # Graphic display\n",
    "    plt.plot(train_X, train_Y, 'ro',label='Original Data')\n",
    "    plt.plot(train_X, sess.run(W) * train_X + sess.run(b), label='fitted line')\n",
    "    plt.legend()\n",
    "    plt.show()"
   ]
  }
 ],
 "metadata": {
  "kernelspec": {
   "display_name": "Python 3",
   "language": "python",
   "name": "python3"
  },
  "language_info": {
   "codemirror_mode": {
    "name": "ipython",
    "version": 3
   },
   "file_extension": ".py",
   "mimetype": "text/x-python",
   "name": "python",
   "nbconvert_exporter": "python",
   "pygments_lexer": "ipython3",
   "version": "3.5.2"
  }
 },
 "nbformat": 4,
 "nbformat_minor": 2
}
